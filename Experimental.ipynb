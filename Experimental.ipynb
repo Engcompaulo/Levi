{
 "cells": [
  {
   "cell_type": "code",
   "execution_count": 3,
   "metadata": {
    "collapsed": true
   },
   "outputs": [],
   "source": [
    "import collections\n",
    "import pandas as pd\n",
    "import numpy as np"
   ]
  },
  {
   "cell_type": "code",
   "execution_count": 4,
   "metadata": {
    "collapsed": true
   },
   "outputs": [],
   "source": [
    "ref_arquivo = open(\"Eu2(MoO4).prn\",\"r\")"
   ]
  },
  {
   "cell_type": "code",
   "execution_count": null,
   "metadata": {
    "collapsed": true
   },
   "outputs": [],
   "source": []
  },
  {
   "cell_type": "code",
   "execution_count": 59,
   "metadata": {
    "collapsed": true
   },
   "outputs": [],
   "source": [
    "linha = ref_arquivo.readlines()"
   ]
  },
  {
   "cell_type": "code",
   "execution_count": 63,
   "metadata": {
    "collapsed": true
   },
   "outputs": [],
   "source": [
    "dict_as_list = linha"
   ]
  },
  {
   "cell_type": "code",
   "execution_count": 66,
   "metadata": {},
   "outputs": [
    {
     "ename": "NameError",
     "evalue": "name 'dictionary' is not defined",
     "output_type": "error",
     "traceback": [
      "\u001b[0;31m---------------------------------------------------------------------------\u001b[0m",
      "\u001b[0;31mNameError\u001b[0m                                 Traceback (most recent call last)",
      "\u001b[0;32m<ipython-input-66-dfa208d88e49>\u001b[0m in \u001b[0;36m<module>\u001b[0;34m()\u001b[0m\n\u001b[0;32m----> 1\u001b[0;31m \u001b[0mdicionario\u001b[0m \u001b[0;34m=\u001b[0m \u001b[0mdictionary\u001b[0m\u001b[0;34m.\u001b[0m\u001b[0mitems\u001b[0m\u001b[0;34m(\u001b[0m\u001b[0;34m)\u001b[0m\u001b[0;34m\u001b[0m\u001b[0m\n\u001b[0m",
      "\u001b[0;31mNameError\u001b[0m: name 'dictionary' is not defined"
     ]
    }
   ],
   "source": []
  },
  {
   "cell_type": "code",
   "execution_count": 62,
   "metadata": {},
   "outputs": [
    {
     "data": {
      "text/plain": [
       "[]"
      ]
     },
     "execution_count": 62,
     "metadata": {},
     "output_type": "execute_result"
    }
   ],
   "source": [
    "dict_as_list"
   ]
  },
  {
   "cell_type": "code",
   "execution_count": 52,
   "metadata": {
    "collapsed": true
   },
   "outputs": [],
   "source": [
    "df = pd.DataFrame(linha)"
   ]
  },
  {
   "cell_type": "code",
   "execution_count": 53,
   "metadata": {},
   "outputs": [
    {
     "data": {
      "text/html": [
       "<div>\n",
       "<style>\n",
       "    .dataframe thead tr:only-child th {\n",
       "        text-align: right;\n",
       "    }\n",
       "\n",
       "    .dataframe thead th {\n",
       "        text-align: left;\n",
       "    }\n",
       "\n",
       "    .dataframe tbody tr th {\n",
       "        vertical-align: top;\n",
       "    }\n",
       "</style>\n",
       "<table border=\"1\" class=\"dataframe\">\n",
       "  <thead>\n",
       "    <tr style=\"text-align: right;\">\n",
       "      <th></th>\n",
       "      <th>0</th>\n",
       "    </tr>\n",
       "  </thead>\n",
       "  <tbody>\n",
       "    <tr>\n",
       "      <th>0</th>\n",
       "      <td>Description: C:\\Users\\Joel\\Desktop\\Eu2(MoO4)3\\...</td>\n",
       "    </tr>\n",
       "    <tr>\n",
       "      <th>1</th>\n",
       "      <td>File Source: c:\\users\\joel\\desktop\\eu2(moo4)3\\...</td>\n",
       "    </tr>\n",
       "    <tr>\n",
       "      <th>2</th>\n",
       "      <td>\\n</td>\n",
       "    </tr>\n",
       "    <tr>\n",
       "      <th>3</th>\n",
       "      <td>Fitted Parameters\\n</td>\n",
       "    </tr>\n",
       "    <tr>\n",
       "      <th>4</th>\n",
       "      <td>r^2 Coef Det  DF Adj r^2    Fit Std Err  F-val...</td>\n",
       "    </tr>\n",
       "    <tr>\n",
       "      <th>5</th>\n",
       "      <td>0.99237599   0.98800103   10.3920989   229.475...</td>\n",
       "    </tr>\n",
       "    <tr>\n",
       "      <th>6</th>\n",
       "      <td>Peak  Type                  a0          a1   ...</td>\n",
       "    </tr>\n",
       "    <tr>\n",
       "      <th>7</th>\n",
       "      <td>1  Gauss+Lor Amp   182.118126  99.4064744 ...</td>\n",
       "    </tr>\n",
       "    <tr>\n",
       "      <th>8</th>\n",
       "      <td>2  Gauss+Lor Amp   69.7538165  103.307278 ...</td>\n",
       "    </tr>\n",
       "    <tr>\n",
       "      <th>9</th>\n",
       "      <td>3  Gauss+Lor Amp   47.2784019  106.302927 ...</td>\n",
       "    </tr>\n",
       "    <tr>\n",
       "      <th>10</th>\n",
       "      <td>4  Gauss+Lor Amp   60.4749315  108.265548 ...</td>\n",
       "    </tr>\n",
       "    <tr>\n",
       "      <th>11</th>\n",
       "      <td>5  Gauss+Lor Amp   62.3861711  110.063440 ...</td>\n",
       "    </tr>\n",
       "    <tr>\n",
       "      <th>12</th>\n",
       "      <td>6  Gauss+Lor Amp   57.1399669  112.756335 ...</td>\n",
       "    </tr>\n",
       "    <tr>\n",
       "      <th>13</th>\n",
       "      <td>7  Gauss+Lor Amp   77.9405002  115.827455 ...</td>\n",
       "    </tr>\n",
       "    <tr>\n",
       "      <th>14</th>\n",
       "      <td>8  Gauss+Lor Amp   43.3218468  119.149537 ...</td>\n",
       "    </tr>\n",
       "    <tr>\n",
       "      <th>15</th>\n",
       "      <td>9  Gauss+Lor Amp   39.2994454  122.316444 ...</td>\n",
       "    </tr>\n",
       "    <tr>\n",
       "      <th>16</th>\n",
       "      <td>10  Gauss+Lor Amp   41.3736297  125.660266 ...</td>\n",
       "    </tr>\n",
       "    <tr>\n",
       "      <th>17</th>\n",
       "      <td>11  Gauss+Lor Amp   71.5685376  129.950994 ...</td>\n",
       "    </tr>\n",
       "    <tr>\n",
       "      <th>18</th>\n",
       "      <td>12  Gauss+Lor Amp   92.7456745  133.612484 ...</td>\n",
       "    </tr>\n",
       "    <tr>\n",
       "      <th>19</th>\n",
       "      <td>13  Gauss+Lor Amp   148.184839  137.754022 ...</td>\n",
       "    </tr>\n",
       "    <tr>\n",
       "      <th>20</th>\n",
       "      <td>14  Gauss+Lor Amp   108.445139  141.360758 ...</td>\n",
       "    </tr>\n",
       "    <tr>\n",
       "      <th>21</th>\n",
       "      <td>15  Gauss+Lor Amp   175.607554  145.081549 ...</td>\n",
       "    </tr>\n",
       "    <tr>\n",
       "      <th>22</th>\n",
       "      <td>16  Gauss+Lor Amp   226.179209  148.302185 ...</td>\n",
       "    </tr>\n",
       "    <tr>\n",
       "      <th>23</th>\n",
       "      <td>17  Gauss+Lor Amp   300.098621  153.369363 ...</td>\n",
       "    </tr>\n",
       "    <tr>\n",
       "      <th>24</th>\n",
       "      <td>18  Gauss+Lor Amp   329.976645  159.583829 ...</td>\n",
       "    </tr>\n",
       "    <tr>\n",
       "      <th>25</th>\n",
       "      <td>19  Gauss+Lor Amp   184.479202  164.445149 ...</td>\n",
       "    </tr>\n",
       "    <tr>\n",
       "      <th>26</th>\n",
       "      <td>20  Gauss+Lor Amp   109.712911  169.077715 ...</td>\n",
       "    </tr>\n",
       "    <tr>\n",
       "      <th>27</th>\n",
       "      <td>21  Gauss+Lor Amp   93.2762338  172.707586 ...</td>\n",
       "    </tr>\n",
       "    <tr>\n",
       "      <th>28</th>\n",
       "      <td>22  Gauss+Lor Amp   92.6822556  175.270802 ...</td>\n",
       "    </tr>\n",
       "    <tr>\n",
       "      <th>29</th>\n",
       "      <td>23  Gauss+Lor Amp   118.016147  178.147084 ...</td>\n",
       "    </tr>\n",
       "    <tr>\n",
       "      <th>...</th>\n",
       "      <td>...</td>\n",
       "    </tr>\n",
       "    <tr>\n",
       "      <th>339</th>\n",
       "      <td>Shpe  0.00000000  11.8822153  0.00000000  -23...</td>\n",
       "    </tr>\n",
       "    <tr>\n",
       "      <th>340</th>\n",
       "      <td>\\n</td>\n",
       "    </tr>\n",
       "    <tr>\n",
       "      <th>341</th>\n",
       "      <td>Peak 33  Gauss+Lor Amp\\n</td>\n",
       "    </tr>\n",
       "    <tr>\n",
       "      <th>342</th>\n",
       "      <td>Parm  Value       Std Error   t-value     95\\n</td>\n",
       "    </tr>\n",
       "    <tr>\n",
       "      <th>343</th>\n",
       "      <td>Amp  56.6332116  1115.11456  0.05078690  -21...</td>\n",
       "    </tr>\n",
       "    <tr>\n",
       "      <th>344</th>\n",
       "      <td>Ctr  220.168785  19.8387333  11.0979255  181...</td>\n",
       "    </tr>\n",
       "    <tr>\n",
       "      <th>345</th>\n",
       "      <td>Wid  10.0836314  58.5951175  0.17208996  -10...</td>\n",
       "    </tr>\n",
       "    <tr>\n",
       "      <th>346</th>\n",
       "      <td>Shpe  1.00000000  10.1301152  0.09871556  -18...</td>\n",
       "    </tr>\n",
       "    <tr>\n",
       "      <th>347</th>\n",
       "      <td>\\n</td>\n",
       "    </tr>\n",
       "    <tr>\n",
       "      <th>348</th>\n",
       "      <td>Peak 34  Gauss+Lor Amp\\n</td>\n",
       "    </tr>\n",
       "    <tr>\n",
       "      <th>349</th>\n",
       "      <td>Parm  Value       Std Error   t-value     95\\n</td>\n",
       "    </tr>\n",
       "    <tr>\n",
       "      <th>350</th>\n",
       "      <td>Amp  70.3558303  294.555973  0.23885386  -50...</td>\n",
       "    </tr>\n",
       "    <tr>\n",
       "      <th>351</th>\n",
       "      <td>Ctr  229.056487  105.979266  2.16133301  20....</td>\n",
       "    </tr>\n",
       "    <tr>\n",
       "      <th>352</th>\n",
       "      <td>Wid  20.9935349  161.369628  0.13009595  -29...</td>\n",
       "    </tr>\n",
       "    <tr>\n",
       "      <th>353</th>\n",
       "      <td>Shpe  1.00000000  31.9023538  0.03134565  -61...</td>\n",
       "    </tr>\n",
       "    <tr>\n",
       "      <th>354</th>\n",
       "      <td>\\n</td>\n",
       "    </tr>\n",
       "    <tr>\n",
       "      <th>355</th>\n",
       "      <td>Analysis of Variance\\n</td>\n",
       "    </tr>\n",
       "    <tr>\n",
       "      <th>356</th>\n",
       "      <td>r^2 Coef Det  DF Adj r^2    Fit Std Err\\n</td>\n",
       "    </tr>\n",
       "    <tr>\n",
       "      <th>357</th>\n",
       "      <td>0.99237599   0.98800103   10.3920989\\n</td>\n",
       "    </tr>\n",
       "    <tr>\n",
       "      <th>358</th>\n",
       "      <td>Source   Sum of Squares    DF      Mean Square...</td>\n",
       "    </tr>\n",
       "    <tr>\n",
       "      <th>359</th>\n",
       "      <td>Regr     3345618.1         135     24782.356  ...</td>\n",
       "    </tr>\n",
       "    <tr>\n",
       "      <th>360</th>\n",
       "      <td>Error    25702.981         238     107.99572  ...</td>\n",
       "    </tr>\n",
       "    <tr>\n",
       "      <th>361</th>\n",
       "      <td>Total    3371321.1         373 \\n</td>\n",
       "    </tr>\n",
       "    <tr>\n",
       "      <th>362</th>\n",
       "      <td>\\n</td>\n",
       "    </tr>\n",
       "    <tr>\n",
       "      <th>363</th>\n",
       "      <td>Details of Fit\\n</td>\n",
       "    </tr>\n",
       "    <tr>\n",
       "      <th>364</th>\n",
       "      <td>Set Convergence    State     Iterations   Mini...</td>\n",
       "    </tr>\n",
       "    <tr>\n",
       "      <th>365</th>\n",
       "      <td>1E-6          Stopped        500     Least...</td>\n",
       "    </tr>\n",
       "    <tr>\n",
       "      <th>366</th>\n",
       "      <td>Curvature Matrix                Constraints   ...</td>\n",
       "    </tr>\n",
       "    <tr>\n",
       "      <th>367</th>\n",
       "      <td>Sparse-Roots  25.0000-5.00000-50.0000- Non...</td>\n",
       "    </tr>\n",
       "    <tr>\n",
       "      <th>368</th>\n",
       "      <td>\\n</td>\n",
       "    </tr>\n",
       "  </tbody>\n",
       "</table>\n",
       "<p>369 rows × 1 columns</p>\n",
       "</div>"
      ],
      "text/plain": [
       "                                                     0\n",
       "0    Description: C:\\Users\\Joel\\Desktop\\Eu2(MoO4)3\\...\n",
       "1    File Source: c:\\users\\joel\\desktop\\eu2(moo4)3\\...\n",
       "2                                                   \\n\n",
       "3                                  Fitted Parameters\\n\n",
       "4    r^2 Coef Det  DF Adj r^2    Fit Std Err  F-val...\n",
       "5    0.99237599   0.98800103   10.3920989   229.475...\n",
       "6     Peak  Type                  a0          a1   ...\n",
       "7        1  Gauss+Lor Amp   182.118126  99.4064744 ...\n",
       "8        2  Gauss+Lor Amp   69.7538165  103.307278 ...\n",
       "9        3  Gauss+Lor Amp   47.2784019  106.302927 ...\n",
       "10       4  Gauss+Lor Amp   60.4749315  108.265548 ...\n",
       "11       5  Gauss+Lor Amp   62.3861711  110.063440 ...\n",
       "12       6  Gauss+Lor Amp   57.1399669  112.756335 ...\n",
       "13       7  Gauss+Lor Amp   77.9405002  115.827455 ...\n",
       "14       8  Gauss+Lor Amp   43.3218468  119.149537 ...\n",
       "15       9  Gauss+Lor Amp   39.2994454  122.316444 ...\n",
       "16      10  Gauss+Lor Amp   41.3736297  125.660266 ...\n",
       "17      11  Gauss+Lor Amp   71.5685376  129.950994 ...\n",
       "18      12  Gauss+Lor Amp   92.7456745  133.612484 ...\n",
       "19      13  Gauss+Lor Amp   148.184839  137.754022 ...\n",
       "20      14  Gauss+Lor Amp   108.445139  141.360758 ...\n",
       "21      15  Gauss+Lor Amp   175.607554  145.081549 ...\n",
       "22      16  Gauss+Lor Amp   226.179209  148.302185 ...\n",
       "23      17  Gauss+Lor Amp   300.098621  153.369363 ...\n",
       "24      18  Gauss+Lor Amp   329.976645  159.583829 ...\n",
       "25      19  Gauss+Lor Amp   184.479202  164.445149 ...\n",
       "26      20  Gauss+Lor Amp   109.712911  169.077715 ...\n",
       "27      21  Gauss+Lor Amp   93.2762338  172.707586 ...\n",
       "28      22  Gauss+Lor Amp   92.6822556  175.270802 ...\n",
       "29      23  Gauss+Lor Amp   118.016147  178.147084 ...\n",
       "..                                                 ...\n",
       "339   Shpe  0.00000000  11.8822153  0.00000000  -23...\n",
       "340                                                 \\n\n",
       "341                           Peak 33  Gauss+Lor Amp\\n\n",
       "342     Parm  Value       Std Error   t-value     95\\n\n",
       "343    Amp  56.6332116  1115.11456  0.05078690  -21...\n",
       "344    Ctr  220.168785  19.8387333  11.0979255  181...\n",
       "345    Wid  10.0836314  58.5951175  0.17208996  -10...\n",
       "346   Shpe  1.00000000  10.1301152  0.09871556  -18...\n",
       "347                                                 \\n\n",
       "348                           Peak 34  Gauss+Lor Amp\\n\n",
       "349     Parm  Value       Std Error   t-value     95\\n\n",
       "350    Amp  70.3558303  294.555973  0.23885386  -50...\n",
       "351    Ctr  229.056487  105.979266  2.16133301  20....\n",
       "352    Wid  20.9935349  161.369628  0.13009595  -29...\n",
       "353   Shpe  1.00000000  31.9023538  0.03134565  -61...\n",
       "354                                                 \\n\n",
       "355                             Analysis of Variance\\n\n",
       "356          r^2 Coef Det  DF Adj r^2    Fit Std Err\\n\n",
       "357             0.99237599   0.98800103   10.3920989\\n\n",
       "358  Source   Sum of Squares    DF      Mean Square...\n",
       "359  Regr     3345618.1         135     24782.356  ...\n",
       "360  Error    25702.981         238     107.99572  ...\n",
       "361                  Total    3371321.1         373 \\n\n",
       "362                                                 \\n\n",
       "363                                   Details of Fit\\n\n",
       "364  Set Convergence    State     Iterations   Mini...\n",
       "365      1E-6          Stopped        500     Least...\n",
       "366  Curvature Matrix                Constraints   ...\n",
       "367      Sparse-Roots  25.0000-5.00000-50.0000- Non...\n",
       "368                                                 \\n\n",
       "\n",
       "[369 rows x 1 columns]"
      ]
     },
     "execution_count": 53,
     "metadata": {},
     "output_type": "execute_result"
    }
   ],
   "source": [
    "df"
   ]
  },
  {
   "cell_type": "code",
   "execution_count": 54,
   "metadata": {},
   "outputs": [
    {
     "data": {
      "text/plain": [
       "list"
      ]
     },
     "execution_count": 54,
     "metadata": {},
     "output_type": "execute_result"
    }
   ],
   "source": [
    "type(linha)\n"
   ]
  },
  {
   "cell_type": "code",
   "execution_count": 56,
   "metadata": {},
   "outputs": [
    {
     "data": {
      "text/plain": [
       "' Peak  Type                  a0          a1          a2          a3    \\n'"
      ]
     },
     "execution_count": 56,
     "metadata": {},
     "output_type": "execute_result"
    }
   ],
   "source": [
    "linha[6]\n"
   ]
  },
  {
   "cell_type": "code",
   "execution_count": 57,
   "metadata": {},
   "outputs": [
    {
     "data": {
      "text/plain": [
       "369"
      ]
     },
     "execution_count": 57,
     "metadata": {},
     "output_type": "execute_result"
    }
   ],
   "source": [
    "len(linha)\n"
   ]
  },
  {
   "cell_type": "code",
   "execution_count": 9,
   "metadata": {},
   "outputs": [
    {
     "data": {
      "text/plain": [
       "count     369\n",
       "unique    297\n",
       "top        \\n\n",
       "freq       40\n",
       "dtype: object"
      ]
     },
     "execution_count": 9,
     "metadata": {},
     "output_type": "execute_result"
    }
   ],
   "source": [
    "s.describe()"
   ]
  },
  {
   "cell_type": "code",
   "execution_count": 10,
   "metadata": {},
   "outputs": [
    {
     "data": {
      "text/plain": [
       "count     369\n",
       "unique    297\n",
       "top        \\n\n",
       "freq       40\n",
       "dtype: object"
      ]
     },
     "execution_count": 10,
     "metadata": {},
     "output_type": "execute_result"
    }
   ],
   "source": [
    "s.describe()\n"
   ]
  },
  {
   "cell_type": "code",
   "execution_count": 11,
   "metadata": {},
   "outputs": [
    {
     "data": {
      "text/plain": [
       "0      False\n",
       "1      False\n",
       "2      False\n",
       "3      False\n",
       "4      False\n",
       "5      False\n",
       "6      False\n",
       "7      False\n",
       "8      False\n",
       "9      False\n",
       "10     False\n",
       "11     False\n",
       "12     False\n",
       "13     False\n",
       "14     False\n",
       "15     False\n",
       "16     False\n",
       "17     False\n",
       "18     False\n",
       "19     False\n",
       "20     False\n",
       "21     False\n",
       "22     False\n",
       "23     False\n",
       "24     False\n",
       "25     False\n",
       "26     False\n",
       "27     False\n",
       "28     False\n",
       "29     False\n",
       "       ...  \n",
       "339    False\n",
       "340     True\n",
       "341    False\n",
       "342     True\n",
       "343    False\n",
       "344    False\n",
       "345    False\n",
       "346    False\n",
       "347     True\n",
       "348    False\n",
       "349     True\n",
       "350    False\n",
       "351    False\n",
       "352    False\n",
       "353    False\n",
       "354     True\n",
       "355    False\n",
       "356    False\n",
       "357    False\n",
       "358    False\n",
       "359    False\n",
       "360    False\n",
       "361    False\n",
       "362     True\n",
       "363    False\n",
       "364    False\n",
       "365    False\n",
       "366    False\n",
       "367    False\n",
       "368     True\n",
       "Length: 369, dtype: bool"
      ]
     },
     "execution_count": 11,
     "metadata": {},
     "output_type": "execute_result"
    }
   ],
   "source": [
    "s.duplicated()\n"
   ]
  },
  {
   "cell_type": "code",
   "execution_count": 12,
   "metadata": {},
   "outputs": [
    {
     "name": "stdout",
     "output_type": "stream",
     "text": [
      "Help on function read_json in module pandas.io.json.json:\n",
      "\n",
      "read_json(path_or_buf=None, orient=None, typ='frame', dtype=True, convert_axes=True, convert_dates=True, keep_default_dates=True, numpy=False, precise_float=False, date_unit=None, encoding=None, lines=False)\n",
      "    Convert a JSON string to pandas object\n",
      "    \n",
      "    Parameters\n",
      "    ----------\n",
      "    path_or_buf : a valid JSON string or file-like, default: None\n",
      "        The string could be a URL. Valid URL schemes include http, ftp, s3, and\n",
      "        file. For file URLs, a host is expected. For instance, a local file\n",
      "        could be ``file://localhost/path/to/table.json``\n",
      "    \n",
      "    orient : string,\n",
      "        Indication of expected JSON string format.\n",
      "        Compatible JSON strings can be produced by ``to_json()`` with a\n",
      "        corresponding orient value.\n",
      "        The set of possible orients is:\n",
      "    \n",
      "        - ``'split'`` : dict like\n",
      "          ``{index -> [index], columns -> [columns], data -> [values]}``\n",
      "        - ``'records'`` : list like\n",
      "          ``[{column -> value}, ... , {column -> value}]``\n",
      "        - ``'index'`` : dict like ``{index -> {column -> value}}``\n",
      "        - ``'columns'`` : dict like ``{column -> {index -> value}}``\n",
      "        - ``'values'`` : just the values array\n",
      "    \n",
      "        The allowed and default values depend on the value\n",
      "        of the `typ` parameter.\n",
      "    \n",
      "        * when ``typ == 'series'``,\n",
      "    \n",
      "          - allowed orients are ``{'split','records','index'}``\n",
      "          - default is ``'index'``\n",
      "          - The Series index must be unique for orient ``'index'``.\n",
      "    \n",
      "        * when ``typ == 'frame'``,\n",
      "    \n",
      "          - allowed orients are ``{'split','records','index',\n",
      "            'columns','values'}``\n",
      "          - default is ``'columns'``\n",
      "          - The DataFrame index must be unique for orients ``'index'`` and\n",
      "            ``'columns'``.\n",
      "          - The DataFrame columns must be unique for orients ``'index'``,\n",
      "            ``'columns'``, and ``'records'``.\n",
      "    \n",
      "    typ : type of object to recover (series or frame), default 'frame'\n",
      "    dtype : boolean or dict, default True\n",
      "        If True, infer dtypes, if a dict of column to dtype, then use those,\n",
      "        if False, then don't infer dtypes at all, applies only to the data.\n",
      "    convert_axes : boolean, default True\n",
      "        Try to convert the axes to the proper dtypes.\n",
      "    convert_dates : boolean, default True\n",
      "        List of columns to parse for dates; If True, then try to parse\n",
      "        datelike columns default is True; a column label is datelike if\n",
      "    \n",
      "        * it ends with ``'_at'``,\n",
      "    \n",
      "        * it ends with ``'_time'``,\n",
      "    \n",
      "        * it begins with ``'timestamp'``,\n",
      "    \n",
      "        * it is ``'modified'``, or\n",
      "    \n",
      "        * it is ``'date'``\n",
      "    \n",
      "    keep_default_dates : boolean, default True\n",
      "        If parsing dates, then parse the default datelike columns\n",
      "    numpy : boolean, default False\n",
      "        Direct decoding to numpy arrays. Supports numeric data only, but\n",
      "        non-numeric column and index labels are supported. Note also that the\n",
      "        JSON ordering MUST be the same for each term if numpy=True.\n",
      "    precise_float : boolean, default False\n",
      "        Set to enable usage of higher precision (strtod) function when\n",
      "        decoding string to double values. Default (False) is to use fast but\n",
      "        less precise builtin functionality\n",
      "    date_unit : string, default None\n",
      "        The timestamp unit to detect if converting dates. The default behaviour\n",
      "        is to try and detect the correct precision, but if this is not desired\n",
      "        then pass one of 's', 'ms', 'us' or 'ns' to force parsing only seconds,\n",
      "        milliseconds, microseconds or nanoseconds respectively.\n",
      "    lines : boolean, default False\n",
      "        Read the file as a json object per line.\n",
      "    \n",
      "        .. versionadded:: 0.19.0\n",
      "    \n",
      "    encoding : str, default is 'utf-8'\n",
      "        The encoding to use to decode py3 bytes.\n",
      "    \n",
      "        .. versionadded:: 0.19.0\n",
      "    \n",
      "    Returns\n",
      "    -------\n",
      "    result : Series or DataFrame, depending on the value of `typ`.\n",
      "    \n",
      "    See Also\n",
      "    --------\n",
      "    DataFrame.to_json\n",
      "    \n",
      "    Examples\n",
      "    --------\n",
      "    \n",
      "    >>> df = pd.DataFrame([['a', 'b'], ['c', 'd']],\n",
      "    ...                   index=['row 1', 'row 2'],\n",
      "    ...                   columns=['col 1', 'col 2'])\n",
      "    \n",
      "    Encoding/decoding a Dataframe using ``'split'`` formatted JSON:\n",
      "    \n",
      "    >>> df.to_json(orient='split')\n",
      "    '{\"columns\":[\"col 1\",\"col 2\"],\n",
      "      \"index\":[\"row 1\",\"row 2\"],\n",
      "      \"data\":[[\"a\",\"b\"],[\"c\",\"d\"]]}'\n",
      "    >>> pd.read_json(_, orient='split')\n",
      "          col 1 col 2\n",
      "    row 1     a     b\n",
      "    row 2     c     d\n",
      "    \n",
      "    Encoding/decoding a Dataframe using ``'index'`` formatted JSON:\n",
      "    \n",
      "    >>> df.to_json(orient='index')\n",
      "    '{\"row 1\":{\"col 1\":\"a\",\"col 2\":\"b\"},\"row 2\":{\"col 1\":\"c\",\"col 2\":\"d\"}}'\n",
      "    >>> pd.read_json(_, orient='index')\n",
      "          col 1 col 2\n",
      "    row 1     a     b\n",
      "    row 2     c     d\n",
      "    \n",
      "    Encoding/decoding a Dataframe using ``'records'`` formatted JSON.\n",
      "    Note that index labels are not preserved with this encoding.\n",
      "    \n",
      "    >>> df.to_json(orient='records')\n",
      "    '[{\"col 1\":\"a\",\"col 2\":\"b\"},{\"col 1\":\"c\",\"col 2\":\"d\"}]'\n",
      "    >>> pd.read_json(_, orient='records')\n",
      "      col 1 col 2\n",
      "    0     a     b\n",
      "    1     c     d\n",
      "    \n",
      "    Encoding with Table Schema\n",
      "    \n",
      "    >>> df.to_json(orient='table')\n",
      "    '{\"schema\": {\"fields\": [{\"name\": \"index\", \"type\": \"string\"},\n",
      "                            {\"name\": \"col 1\", \"type\": \"string\"},\n",
      "                            {\"name\": \"col 2\", \"type\": \"string\"}],\n",
      "                    \"primaryKey\": \"index\",\n",
      "                    \"pandas_version\": \"0.20.0\"},\n",
      "        \"data\": [{\"index\": \"row 1\", \"col 1\": \"a\", \"col 2\": \"b\"},\n",
      "                {\"index\": \"row 2\", \"col 1\": \"c\", \"col 2\": \"d\"}]}'\n",
      "\n"
     ]
    }
   ],
   "source": [
    "help(pd.read_json)"
   ]
  },
  {
   "cell_type": "code",
   "execution_count": 13,
   "metadata": {
    "collapsed": true
   },
   "outputs": [],
   "source": [
    "df = pd.read_table('Eu2(MoO4).prn', delim_whitespace=True, skiprows=[0, 1, 2, 5, 16, 57, 58, 59], names=('A', 'B', 'C', 'D', 'E'))"
   ]
  },
  {
   "cell_type": "code",
   "execution_count": 14,
   "metadata": {
    "collapsed": true
   },
   "outputs": [],
   "source": [
    "#df=pd.read_table('Eu2(MoO4).prn', delim_whitespace=True, names=('A', 'B', 'C', 'D', 'E'), dtype={'A': np.str0, 'C': np.float})"
   ]
  },
  {
   "cell_type": "code",
   "execution_count": 15,
   "metadata": {},
   "outputs": [
    {
     "data": {
      "text/plain": [
       "0             NaN\n",
       "1              DF\n",
       "2              a1\n",
       "3      182.118126\n",
       "4      69.7538165\n",
       "5      47.2784019\n",
       "6      60.4749315\n",
       "7      62.3861711\n",
       "8      57.1399669\n",
       "9      77.9405002\n",
       "10     43.3218468\n",
       "11     39.2994454\n",
       "12     71.5685376\n",
       "13     92.7456745\n",
       "14     148.184839\n",
       "15     108.445139\n",
       "16     175.607554\n",
       "17     226.179209\n",
       "18     300.098621\n",
       "19     329.976645\n",
       "20     184.479202\n",
       "21     109.712911\n",
       "22     93.2762338\n",
       "23     92.6822556\n",
       "24     118.016147\n",
       "25     111.248306\n",
       "26     133.345737\n",
       "27     189.344873\n",
       "28     281.557440\n",
       "29     161.059950\n",
       "          ...    \n",
       "292           Amp\n",
       "293         Error\n",
       "294    0.07218091\n",
       "295    62.4494239\n",
       "296    0.11133764\n",
       "297    0.00000000\n",
       "298           Amp\n",
       "299         Error\n",
       "300    0.05078690\n",
       "301    11.0979255\n",
       "302    0.17208996\n",
       "303    0.09871556\n",
       "304           Amp\n",
       "305         Error\n",
       "306    0.23885386\n",
       "307    2.16133301\n",
       "308    0.13009595\n",
       "309    0.03134565\n",
       "310           NaN\n",
       "311            DF\n",
       "312           NaN\n",
       "313       Squares\n",
       "314     24782.356\n",
       "315     107.99572\n",
       "316           NaN\n",
       "317           NaN\n",
       "318    Iterations\n",
       "319         Least\n",
       "320      Violated\n",
       "321             -\n",
       "Name: D, Length: 322, dtype: object"
      ]
     },
     "execution_count": 15,
     "metadata": {},
     "output_type": "execute_result"
    }
   ],
   "source": [
    "df['D']"
   ]
  },
  {
   "cell_type": "code",
   "execution_count": 16,
   "metadata": {},
   "outputs": [
    {
     "data": {
      "text/plain": [
       "Index(['A', 'B', 'C', 'D', 'E'], dtype='object')"
      ]
     },
     "execution_count": 16,
     "metadata": {},
     "output_type": "execute_result"
    }
   ],
   "source": [
    "df.columns"
   ]
  },
  {
   "cell_type": "markdown",
   "metadata": {},
   "source": [
    "\n"
   ]
  },
  {
   "cell_type": "code",
   "execution_count": 51,
   "metadata": {},
   "outputs": [
    {
     "data": {
      "text/plain": [
       "2576"
      ]
     },
     "execution_count": 51,
     "metadata": {},
     "output_type": "execute_result"
    }
   ],
   "source": [
    "df['D'].nbytes\n"
   ]
  },
  {
   "cell_type": "code",
   "execution_count": null,
   "metadata": {
    "collapsed": true
   },
   "outputs": [],
   "source": [
    "    "
   ]
  },
  {
   "cell_type": "code",
   "execution_count": null,
   "metadata": {},
   "outputs": [],
   "source": [
    "        "
   ]
  },
  {
   "cell_type": "code",
   "execution_count": 39,
   "metadata": {
    "collapsed": true
   },
   "outputs": [],
   "source": []
  },
  {
   "cell_type": "code",
   "execution_count": null,
   "metadata": {
    "collapsed": true
   },
   "outputs": [],
   "source": []
  },
  {
   "cell_type": "code",
   "execution_count": null,
   "metadata": {
    "collapsed": true
   },
   "outputs": [],
   "source": []
  },
  {
   "cell_type": "code",
   "execution_count": null,
   "metadata": {
    "collapsed": true
   },
   "outputs": [],
   "source": []
  },
  {
   "cell_type": "code",
   "execution_count": null,
   "metadata": {
    "collapsed": true
   },
   "outputs": [],
   "source": []
  }
 ],
 "metadata": {
  "kernelspec": {
   "display_name": "Python 3",
   "language": "python",
   "name": "python3"
  },
  "language_info": {
   "codemirror_mode": {
    "name": "ipython",
    "version": 3
   },
   "file_extension": ".py",
   "mimetype": "text/x-python",
   "name": "python",
   "nbconvert_exporter": "python",
   "pygments_lexer": "ipython3",
   "version": "3.6.3"
  }
 },
 "nbformat": 4,
 "nbformat_minor": 2
}
