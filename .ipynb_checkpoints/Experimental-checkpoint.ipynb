{
 "cells": [
  {
   "cell_type": "code",
   "execution_count": 187,
   "metadata": {
    "collapsed": true
   },
   "outputs": [],
   "source": [
    "import collections\n",
    "import pandas as pd\n",
    "import numpy as np"
   ]
  },
  {
   "cell_type": "code",
   "execution_count": 205,
   "metadata": {},
   "outputs": [],
   "source": [
    "ref_arquivo = open(\"Eu2(MoO4).prn\",\"r\")"
   ]
  },
  {
   "cell_type": "code",
   "execution_count": null,
   "metadata": {
    "collapsed": true
   },
   "outputs": [],
   "source": []
  },
  {
   "cell_type": "code",
   "execution_count": 206,
   "metadata": {},
   "outputs": [],
   "source": [
    "linha = ref_arquivo.readlines()"
   ]
  },
  {
   "cell_type": "code",
   "execution_count": null,
   "metadata": {
    "collapsed": true
   },
   "outputs": [],
   "source": []
  },
  {
   "cell_type": "code",
   "execution_count": null,
   "metadata": {
    "collapsed": true
   },
   "outputs": [],
   "source": []
  },
  {
   "cell_type": "code",
   "execution_count": 192,
   "metadata": {
    "collapsed": true
   },
   "outputs": [],
   "source": [
    "s = pd.Series(linha)\n"
   ]
  },
  {
   "cell_type": "code",
   "execution_count": 193,
   "metadata": {},
   "outputs": [
    {
     "data": {
      "text/plain": [
       "0      Description: C:\\Users\\Joel\\Desktop\\Eu2(MoO4)3\\...\n",
       "1      File Source: c:\\users\\joel\\desktop\\eu2(moo4)3\\...\n",
       "2                                                     \\n\n",
       "3                                    Fitted Parameters\\n\n",
       "4      r^2 Coef Det  DF Adj r^2    Fit Std Err  F-val...\n",
       "5      0.99237599   0.98800103   10.3920989   229.475...\n",
       "6       Peak  Type                  a0          a1   ...\n",
       "7          1  Gauss+Lor Amp   182.118126  99.4064744 ...\n",
       "8          2  Gauss+Lor Amp   69.7538165  103.307278 ...\n",
       "9          3  Gauss+Lor Amp   47.2784019  106.302927 ...\n",
       "10         4  Gauss+Lor Amp   60.4749315  108.265548 ...\n",
       "11         5  Gauss+Lor Amp   62.3861711  110.063440 ...\n",
       "12         6  Gauss+Lor Amp   57.1399669  112.756335 ...\n",
       "13         7  Gauss+Lor Amp   77.9405002  115.827455 ...\n",
       "14         8  Gauss+Lor Amp   43.3218468  119.149537 ...\n",
       "15         9  Gauss+Lor Amp   39.2994454  122.316444 ...\n",
       "16        10  Gauss+Lor Amp   41.3736297  125.660266 ...\n",
       "17        11  Gauss+Lor Amp   71.5685376  129.950994 ...\n",
       "18        12  Gauss+Lor Amp   92.7456745  133.612484 ...\n",
       "19        13  Gauss+Lor Amp   148.184839  137.754022 ...\n",
       "20        14  Gauss+Lor Amp   108.445139  141.360758 ...\n",
       "21        15  Gauss+Lor Amp   175.607554  145.081549 ...\n",
       "22        16  Gauss+Lor Amp   226.179209  148.302185 ...\n",
       "23        17  Gauss+Lor Amp   300.098621  153.369363 ...\n",
       "24        18  Gauss+Lor Amp   329.976645  159.583829 ...\n",
       "25        19  Gauss+Lor Amp   184.479202  164.445149 ...\n",
       "26        20  Gauss+Lor Amp   109.712911  169.077715 ...\n",
       "27        21  Gauss+Lor Amp   93.2762338  172.707586 ...\n",
       "28        22  Gauss+Lor Amp   92.6822556  175.270802 ...\n",
       "29        23  Gauss+Lor Amp   118.016147  178.147084 ...\n",
       "                             ...                        \n",
       "339     Shpe  0.00000000  11.8822153  0.00000000  -23...\n",
       "340                                                   \\n\n",
       "341                             Peak 33  Gauss+Lor Amp\\n\n",
       "342       Parm  Value       Std Error   t-value     95\\n\n",
       "343      Amp  56.6332116  1115.11456  0.05078690  -21...\n",
       "344      Ctr  220.168785  19.8387333  11.0979255  181...\n",
       "345      Wid  10.0836314  58.5951175  0.17208996  -10...\n",
       "346     Shpe  1.00000000  10.1301152  0.09871556  -18...\n",
       "347                                                   \\n\n",
       "348                             Peak 34  Gauss+Lor Amp\\n\n",
       "349       Parm  Value       Std Error   t-value     95\\n\n",
       "350      Amp  70.3558303  294.555973  0.23885386  -50...\n",
       "351      Ctr  229.056487  105.979266  2.16133301  20....\n",
       "352      Wid  20.9935349  161.369628  0.13009595  -29...\n",
       "353     Shpe  1.00000000  31.9023538  0.03134565  -61...\n",
       "354                                                   \\n\n",
       "355                               Analysis of Variance\\n\n",
       "356            r^2 Coef Det  DF Adj r^2    Fit Std Err\\n\n",
       "357               0.99237599   0.98800103   10.3920989\\n\n",
       "358    Source   Sum of Squares    DF      Mean Square...\n",
       "359    Regr     3345618.1         135     24782.356  ...\n",
       "360    Error    25702.981         238     107.99572  ...\n",
       "361                    Total    3371321.1         373 \\n\n",
       "362                                                   \\n\n",
       "363                                     Details of Fit\\n\n",
       "364    Set Convergence    State     Iterations   Mini...\n",
       "365        1E-6          Stopped        500     Least...\n",
       "366    Curvature Matrix                Constraints   ...\n",
       "367        Sparse-Roots  25.0000-5.00000-50.0000- Non...\n",
       "368                                                   \\n\n",
       "Length: 369, dtype: object"
      ]
     },
     "execution_count": 193,
     "metadata": {},
     "output_type": "execute_result"
    }
   ],
   "source": [
    "s\n"
   ]
  },
  {
   "cell_type": "code",
   "execution_count": 194,
   "metadata": {},
   "outputs": [
    {
     "data": {
      "text/plain": [
       "366    Curvature Matrix                Constraints   ...\n",
       "367        Sparse-Roots  25.0000-5.00000-50.0000- Non...\n",
       "368                                                   \\n\n",
       "dtype: object"
      ]
     },
     "execution_count": 194,
     "metadata": {},
     "output_type": "execute_result"
    }
   ],
   "source": [
    "s[366:]\n"
   ]
  },
  {
   "cell_type": "code",
   "execution_count": 195,
   "metadata": {},
   "outputs": [
    {
     "data": {
      "text/plain": [
       "count     369\n",
       "unique    297\n",
       "top        \\n\n",
       "freq       40\n",
       "dtype: object"
      ]
     },
     "execution_count": 195,
     "metadata": {},
     "output_type": "execute_result"
    }
   ],
   "source": [
    "s.describe()"
   ]
  },
  {
   "cell_type": "code",
   "execution_count": 196,
   "metadata": {},
   "outputs": [
    {
     "data": {
      "text/plain": [
       "count     369\n",
       "unique    297\n",
       "top        \\n\n",
       "freq       40\n",
       "dtype: object"
      ]
     },
     "execution_count": 196,
     "metadata": {},
     "output_type": "execute_result"
    }
   ],
   "source": [
    "s.describe()\n"
   ]
  },
  {
   "cell_type": "code",
   "execution_count": 197,
   "metadata": {},
   "outputs": [
    {
     "data": {
      "text/plain": [
       "0      False\n",
       "1      False\n",
       "2      False\n",
       "3      False\n",
       "4      False\n",
       "5      False\n",
       "6      False\n",
       "7      False\n",
       "8      False\n",
       "9      False\n",
       "10     False\n",
       "11     False\n",
       "12     False\n",
       "13     False\n",
       "14     False\n",
       "15     False\n",
       "16     False\n",
       "17     False\n",
       "18     False\n",
       "19     False\n",
       "20     False\n",
       "21     False\n",
       "22     False\n",
       "23     False\n",
       "24     False\n",
       "25     False\n",
       "26     False\n",
       "27     False\n",
       "28     False\n",
       "29     False\n",
       "       ...  \n",
       "339    False\n",
       "340     True\n",
       "341    False\n",
       "342     True\n",
       "343    False\n",
       "344    False\n",
       "345    False\n",
       "346    False\n",
       "347     True\n",
       "348    False\n",
       "349     True\n",
       "350    False\n",
       "351    False\n",
       "352    False\n",
       "353    False\n",
       "354     True\n",
       "355    False\n",
       "356    False\n",
       "357    False\n",
       "358    False\n",
       "359    False\n",
       "360    False\n",
       "361    False\n",
       "362     True\n",
       "363    False\n",
       "364    False\n",
       "365    False\n",
       "366    False\n",
       "367    False\n",
       "368     True\n",
       "Length: 369, dtype: bool"
      ]
     },
     "execution_count": 197,
     "metadata": {},
     "output_type": "execute_result"
    }
   ],
   "source": [
    "s.duplicated()\n"
   ]
  },
  {
   "cell_type": "code",
   "execution_count": 198,
   "metadata": {},
   "outputs": [
    {
     "name": "stdout",
     "output_type": "stream",
     "text": [
      "Help on function read_json in module pandas.io.json.json:\n",
      "\n",
      "read_json(path_or_buf=None, orient=None, typ='frame', dtype=True, convert_axes=True, convert_dates=True, keep_default_dates=True, numpy=False, precise_float=False, date_unit=None, encoding=None, lines=False)\n",
      "    Convert a JSON string to pandas object\n",
      "    \n",
      "    Parameters\n",
      "    ----------\n",
      "    path_or_buf : a valid JSON string or file-like, default: None\n",
      "        The string could be a URL. Valid URL schemes include http, ftp, s3, and\n",
      "        file. For file URLs, a host is expected. For instance, a local file\n",
      "        could be ``file://localhost/path/to/table.json``\n",
      "    \n",
      "    orient : string,\n",
      "        Indication of expected JSON string format.\n",
      "        Compatible JSON strings can be produced by ``to_json()`` with a\n",
      "        corresponding orient value.\n",
      "        The set of possible orients is:\n",
      "    \n",
      "        - ``'split'`` : dict like\n",
      "          ``{index -> [index], columns -> [columns], data -> [values]}``\n",
      "        - ``'records'`` : list like\n",
      "          ``[{column -> value}, ... , {column -> value}]``\n",
      "        - ``'index'`` : dict like ``{index -> {column -> value}}``\n",
      "        - ``'columns'`` : dict like ``{column -> {index -> value}}``\n",
      "        - ``'values'`` : just the values array\n",
      "    \n",
      "        The allowed and default values depend on the value\n",
      "        of the `typ` parameter.\n",
      "    \n",
      "        * when ``typ == 'series'``,\n",
      "    \n",
      "          - allowed orients are ``{'split','records','index'}``\n",
      "          - default is ``'index'``\n",
      "          - The Series index must be unique for orient ``'index'``.\n",
      "    \n",
      "        * when ``typ == 'frame'``,\n",
      "    \n",
      "          - allowed orients are ``{'split','records','index',\n",
      "            'columns','values'}``\n",
      "          - default is ``'columns'``\n",
      "          - The DataFrame index must be unique for orients ``'index'`` and\n",
      "            ``'columns'``.\n",
      "          - The DataFrame columns must be unique for orients ``'index'``,\n",
      "            ``'columns'``, and ``'records'``.\n",
      "    \n",
      "    typ : type of object to recover (series or frame), default 'frame'\n",
      "    dtype : boolean or dict, default True\n",
      "        If True, infer dtypes, if a dict of column to dtype, then use those,\n",
      "        if False, then don't infer dtypes at all, applies only to the data.\n",
      "    convert_axes : boolean, default True\n",
      "        Try to convert the axes to the proper dtypes.\n",
      "    convert_dates : boolean, default True\n",
      "        List of columns to parse for dates; If True, then try to parse\n",
      "        datelike columns default is True; a column label is datelike if\n",
      "    \n",
      "        * it ends with ``'_at'``,\n",
      "    \n",
      "        * it ends with ``'_time'``,\n",
      "    \n",
      "        * it begins with ``'timestamp'``,\n",
      "    \n",
      "        * it is ``'modified'``, or\n",
      "    \n",
      "        * it is ``'date'``\n",
      "    \n",
      "    keep_default_dates : boolean, default True\n",
      "        If parsing dates, then parse the default datelike columns\n",
      "    numpy : boolean, default False\n",
      "        Direct decoding to numpy arrays. Supports numeric data only, but\n",
      "        non-numeric column and index labels are supported. Note also that the\n",
      "        JSON ordering MUST be the same for each term if numpy=True.\n",
      "    precise_float : boolean, default False\n",
      "        Set to enable usage of higher precision (strtod) function when\n",
      "        decoding string to double values. Default (False) is to use fast but\n",
      "        less precise builtin functionality\n",
      "    date_unit : string, default None\n",
      "        The timestamp unit to detect if converting dates. The default behaviour\n",
      "        is to try and detect the correct precision, but if this is not desired\n",
      "        then pass one of 's', 'ms', 'us' or 'ns' to force parsing only seconds,\n",
      "        milliseconds, microseconds or nanoseconds respectively.\n",
      "    lines : boolean, default False\n",
      "        Read the file as a json object per line.\n",
      "    \n",
      "        .. versionadded:: 0.19.0\n",
      "    \n",
      "    encoding : str, default is 'utf-8'\n",
      "        The encoding to use to decode py3 bytes.\n",
      "    \n",
      "        .. versionadded:: 0.19.0\n",
      "    \n",
      "    Returns\n",
      "    -------\n",
      "    result : Series or DataFrame, depending on the value of `typ`.\n",
      "    \n",
      "    See Also\n",
      "    --------\n",
      "    DataFrame.to_json\n",
      "    \n",
      "    Examples\n",
      "    --------\n",
      "    \n",
      "    >>> df = pd.DataFrame([['a', 'b'], ['c', 'd']],\n",
      "    ...                   index=['row 1', 'row 2'],\n",
      "    ...                   columns=['col 1', 'col 2'])\n",
      "    \n",
      "    Encoding/decoding a Dataframe using ``'split'`` formatted JSON:\n",
      "    \n",
      "    >>> df.to_json(orient='split')\n",
      "    '{\"columns\":[\"col 1\",\"col 2\"],\n",
      "      \"index\":[\"row 1\",\"row 2\"],\n",
      "      \"data\":[[\"a\",\"b\"],[\"c\",\"d\"]]}'\n",
      "    >>> pd.read_json(_, orient='split')\n",
      "          col 1 col 2\n",
      "    row 1     a     b\n",
      "    row 2     c     d\n",
      "    \n",
      "    Encoding/decoding a Dataframe using ``'index'`` formatted JSON:\n",
      "    \n",
      "    >>> df.to_json(orient='index')\n",
      "    '{\"row 1\":{\"col 1\":\"a\",\"col 2\":\"b\"},\"row 2\":{\"col 1\":\"c\",\"col 2\":\"d\"}}'\n",
      "    >>> pd.read_json(_, orient='index')\n",
      "          col 1 col 2\n",
      "    row 1     a     b\n",
      "    row 2     c     d\n",
      "    \n",
      "    Encoding/decoding a Dataframe using ``'records'`` formatted JSON.\n",
      "    Note that index labels are not preserved with this encoding.\n",
      "    \n",
      "    >>> df.to_json(orient='records')\n",
      "    '[{\"col 1\":\"a\",\"col 2\":\"b\"},{\"col 1\":\"c\",\"col 2\":\"d\"}]'\n",
      "    >>> pd.read_json(_, orient='records')\n",
      "      col 1 col 2\n",
      "    0     a     b\n",
      "    1     c     d\n",
      "    \n",
      "    Encoding with Table Schema\n",
      "    \n",
      "    >>> df.to_json(orient='table')\n",
      "    '{\"schema\": {\"fields\": [{\"name\": \"index\", \"type\": \"string\"},\n",
      "                            {\"name\": \"col 1\", \"type\": \"string\"},\n",
      "                            {\"name\": \"col 2\", \"type\": \"string\"}],\n",
      "                    \"primaryKey\": \"index\",\n",
      "                    \"pandas_version\": \"0.20.0\"},\n",
      "        \"data\": [{\"index\": \"row 1\", \"col 1\": \"a\", \"col 2\": \"b\"},\n",
      "                {\"index\": \"row 2\", \"col 1\": \"c\", \"col 2\": \"d\"}]}'\n",
      "\n"
     ]
    }
   ],
   "source": [
    "help(pd.read_json)"
   ]
  },
  {
   "cell_type": "code",
   "execution_count": 225,
   "metadata": {},
   "outputs": [],
   "source": [
    "df = pd.read_table('Eu2(MoO4).prn', delim_whitespace=True, skiprows=[0, 1, 2, 5, 16, 57, 58, 59], names=('A', 'B', 'C', 'D', 'E'))"
   ]
  },
  {
   "cell_type": "code",
   "execution_count": 226,
   "metadata": {},
   "outputs": [],
   "source": [
    "#df=pd.read_table('Eu2(MoO4).prn', delim_whitespace=True, names=('A', 'B', 'C', 'D', 'E'), dtype={'A': np.str0, 'C': np.float})"
   ]
  },
  {
   "cell_type": "code",
   "execution_count": 235,
   "metadata": {},
   "outputs": [
    {
     "ename": "AttributeError",
     "evalue": "'Series' object has no attribute 'ipynb_checkpoints'",
     "output_type": "error",
     "traceback": [
      "\u001b[0;31m---------------------------------------------------------------------------\u001b[0m",
      "\u001b[0;31mAttributeError\u001b[0m                            Traceback (most recent call last)",
      "\u001b[0;32m<ipython-input-235-5521604ff1e6>\u001b[0m in \u001b[0;36m<module>\u001b[0;34m()\u001b[0m\n\u001b[0;32m----> 1\u001b[0;31m \u001b[0mdf\u001b[0m\u001b[0;34m[\u001b[0m\u001b[0;34m'D'\u001b[0m\u001b[0;34m]\u001b[0m\u001b[0;34m.\u001b[0m\u001b[0mipynb_checkpoints\u001b[0m\u001b[0;34m/\u001b[0m\u001b[0mExperimental\u001b[0m\u001b[0;34m-\u001b[0m\u001b[0mcheckpoint\u001b[0m\u001b[0;34m.\u001b[0m\u001b[0mipynb\u001b[0m\u001b[0;34m\u001b[0m\u001b[0m\n\u001b[0m",
      "\u001b[0;32m~/anaconda3/lib/python3.6/site-packages/pandas/core/generic.py\u001b[0m in \u001b[0;36m__getattr__\u001b[0;34m(self, name)\u001b[0m\n\u001b[1;32m   3079\u001b[0m             \u001b[0;32mif\u001b[0m \u001b[0mname\u001b[0m \u001b[0;32min\u001b[0m \u001b[0mself\u001b[0m\u001b[0;34m.\u001b[0m\u001b[0m_info_axis\u001b[0m\u001b[0;34m:\u001b[0m\u001b[0;34m\u001b[0m\u001b[0m\n\u001b[1;32m   3080\u001b[0m                 \u001b[0;32mreturn\u001b[0m \u001b[0mself\u001b[0m\u001b[0;34m[\u001b[0m\u001b[0mname\u001b[0m\u001b[0;34m]\u001b[0m\u001b[0;34m\u001b[0m\u001b[0m\n\u001b[0;32m-> 3081\u001b[0;31m             \u001b[0;32mreturn\u001b[0m \u001b[0mobject\u001b[0m\u001b[0;34m.\u001b[0m\u001b[0m__getattribute__\u001b[0m\u001b[0;34m(\u001b[0m\u001b[0mself\u001b[0m\u001b[0;34m,\u001b[0m \u001b[0mname\u001b[0m\u001b[0;34m)\u001b[0m\u001b[0;34m\u001b[0m\u001b[0m\n\u001b[0m\u001b[1;32m   3082\u001b[0m \u001b[0;34m\u001b[0m\u001b[0m\n\u001b[1;32m   3083\u001b[0m     \u001b[0;32mdef\u001b[0m \u001b[0m__setattr__\u001b[0m\u001b[0;34m(\u001b[0m\u001b[0mself\u001b[0m\u001b[0;34m,\u001b[0m \u001b[0mname\u001b[0m\u001b[0;34m,\u001b[0m \u001b[0mvalue\u001b[0m\u001b[0;34m)\u001b[0m\u001b[0;34m:\u001b[0m\u001b[0;34m\u001b[0m\u001b[0m\n",
      "\u001b[0;31mAttributeError\u001b[0m: 'Series' object has no attribute 'ipynb_checkpoints'"
     ]
    }
   ],
   "source": [
    "df['D']"
   ]
  },
  {
   "cell_type": "code",
   "execution_count": 237,
   "metadata": {},
   "outputs": [
    {
     "data": {
      "text/plain": [
       "Index(['A', 'B', 'C', 'D', 'E'], dtype='object')"
      ]
     },
     "execution_count": 237,
     "metadata": {},
     "output_type": "execute_result"
    }
   ],
   "source": [
    "df.columns"
   ]
  },
  {
   "cell_type": "markdown",
   "metadata": {},
   "source": [
    "\n"
   ]
  },
  {
   "cell_type": "code",
   "execution_count": null,
   "metadata": {
    "collapsed": true
   },
   "outputs": [],
   "source": []
  },
  {
   "cell_type": "code",
   "execution_count": null,
   "metadata": {
    "collapsed": true
   },
   "outputs": [],
   "source": []
  },
  {
   "cell_type": "code",
   "execution_count": null,
   "metadata": {
    "collapsed": true
   },
   "outputs": [],
   "source": []
  },
  {
   "cell_type": "code",
   "execution_count": null,
   "metadata": {
    "collapsed": true
   },
   "outputs": [],
   "source": []
  },
  {
   "cell_type": "code",
   "execution_count": null,
   "metadata": {
    "collapsed": true
   },
   "outputs": [],
   "source": []
  },
  {
   "cell_type": "code",
   "execution_count": null,
   "metadata": {
    "collapsed": true
   },
   "outputs": [],
   "source": []
  },
  {
   "cell_type": "code",
   "execution_count": null,
   "metadata": {
    "collapsed": true
   },
   "outputs": [],
   "source": []
  },
  {
   "cell_type": "code",
   "execution_count": null,
   "metadata": {
    "collapsed": true
   },
   "outputs": [],
   "source": []
  }
 ],
 "metadata": {
  "kernelspec": {
   "display_name": "Python 3",
   "language": "python",
   "name": "python3"
  },
  "language_info": {
   "codemirror_mode": {
    "name": "ipython",
    "version": 3
   },
   "file_extension": ".py",
   "mimetype": "text/x-python",
   "name": "python",
   "nbconvert_exporter": "python",
   "pygments_lexer": "ipython3",
   "version": "3.6.3"
  }
 },
 "nbformat": 4,
 "nbformat_minor": 2
}
